{
 "cells": [
  {
   "cell_type": "markdown",
   "id": "ba1ce6a3-3440-4647-8cc9-f08aac99f3d3",
   "metadata": {},
   "source": [
    "CISC 7700X HW# 6: Using hw6 data to build a classification model. The last column in the dataset is the label. Randomly split the dataset into 70% training instances, and 30% test instances. Construct a classifier on the training data, and report the accuracy results using the test dataset. Feel tree to use any model classifier (kNN, linear, etc.). Submit the code, a short description of your model, accuracy, etc."
   ]
  },
  {
   "cell_type": "code",
   "execution_count": 9,
   "id": "3edbefee-4d38-433a-bf33-da6f429cd4f1",
   "metadata": {
    "tags": []
   },
   "outputs": [
    {
     "name": "stdout",
     "output_type": "stream",
     "text": [
      "File downloaded successfully as data.csv.gz\n",
      "File unzipped successfully as data.csv\n",
      "Csv file read at df\n",
      "           -90.0452      -64.1629       86.5897       37.7603         16.85  \\\n",
      "count  99999.000000  99999.000000  99999.000000  99999.000000  99999.000000   \n",
      "mean      13.356065     -2.373598     -3.671339     -7.309193     -7.437496   \n",
      "std       62.448170     60.229992     62.810855     61.975184     55.143794   \n",
      "min     -111.072300   -119.358600   -109.951100   -114.952500   -106.254400   \n",
      "25%      -50.073250    -54.261550    -59.474900    -69.126400    -56.210150   \n",
      "50%       25.795300    -10.722800     -8.291500     -7.059700     -0.283100   \n",
      "75%       65.478550     58.935350     55.430000     48.098050     29.583700   \n",
      "max      112.144000    103.259000    109.439900    107.334900    110.031700   \n",
      "\n",
      "            84.0027       56.2247      -31.8355      -54.7741       -7.4689  \\\n",
      "count  99999.000000  99999.000000  99999.000000  99999.000000  99999.000000   \n",
      "mean      -0.959834      7.216792     -4.325448    -10.224439      1.515376   \n",
      "std       56.352744     57.043240     54.670446     54.390794     59.828671   \n",
      "min     -111.391500   -103.860100   -106.258500   -104.171800   -108.904500   \n",
      "25%      -48.966700    -35.806750    -46.234200    -54.253800    -54.081450   \n",
      "50%       -1.945700      6.572000     -8.738000    -16.756000      4.792800   \n",
      "75%       45.335850     55.054400     52.596200     36.089750     51.728450   \n",
      "max      113.037700    112.895700    100.693500    114.886800    109.704000   \n",
      "\n",
      "                  0  \n",
      "count  99999.000000  \n",
      "mean       5.590946  \n",
      "std        3.671443  \n",
      "min        0.000000  \n",
      "25%        2.000000  \n",
      "50%        5.000000  \n",
      "75%        9.000000  \n",
      "max       11.000000  \n"
     ]
    }
   ],
   "source": [
    "import requests, gzip, shutil, pandas as pd\n",
    "\n",
    "# URL of the .csv.gz file\n",
    "url = 'http://theparticle.com/cs/bc/dsci/hw6.data.csv.gz'\n",
    "\n",
    "# Download the file\n",
    "response = requests.get(url, stream=True)\n",
    "\n",
    "# Save it to a local file\n",
    "with open('data.csv.gz', 'wb') as file:\n",
    "    for chunk in response.iter_content(chunk_size=8192):\n",
    "        file.write(chunk)\n",
    "        \n",
    "print(\"File downloaded successfully as data.csv.gz\")\n",
    "\n",
    "inputfile = 'data.csv.gz'\n",
    "outputfile = 'data.csv'\n",
    "\n",
    "with gzip.open(inputfile, 'rb') as fin:\n",
    "    with open(outputfile, 'wb') as fout:\n",
    "        shutil.copyfileobj(fin, fout)\n",
    "        \n",
    "print(\"File unzipped successfully as data.csv\")       \n"
   ]
  },
  {
   "cell_type": "code",
   "execution_count": 2,
   "id": "d79303ec-00fe-42cb-8e3a-19335629a957",
   "metadata": {
    "tags": []
   },
   "outputs": [
    {
     "name": "stdout",
     "output_type": "stream",
     "text": [
      "Csv file read at df\n",
      "           -90.0452      -64.1629       86.5897       37.7603         16.85  \\\n",
      "count  30000.000000  30000.000000  30000.000000  30000.000000  30000.000000   \n",
      "mean      13.379157     -2.152587     -3.625846     -7.058526     -7.364241   \n",
      "std       62.190642     59.991729     62.769917     62.024280     55.149038   \n",
      "min     -107.307200   -119.358600   -109.951100   -112.977600   -106.254400   \n",
      "25%      -49.106825    -53.954275    -59.416150    -68.938425    -56.163725   \n",
      "50%       25.723200    -10.288400     -7.961550     -6.879150     -0.003250   \n",
      "75%       65.373100     58.621325     55.460675     48.213150     29.614275   \n",
      "max      110.203300    102.401100    106.132000    105.341700    109.668600   \n",
      "\n",
      "            84.0027       56.2247      -31.8355      -54.7741       -7.4689  \n",
      "count  30000.000000  30000.000000  30000.000000  30000.000000  30000.000000  \n",
      "mean      -0.722245      7.005423     -3.488911    -10.137852      1.904105  \n",
      "std       56.626464     57.092886     54.865177     54.238076     59.777310  \n",
      "min     -107.379600   -102.836600   -105.359300   -102.972100   -107.540100  \n",
      "25%      -49.001825    -36.090250    -45.770650    -53.517975    -53.870650  \n",
      "50%       -1.564750      6.578350     -8.489400    -16.737650      5.171300  \n",
      "75%       46.122675     54.835875     54.032925     35.989700     51.961775  \n",
      "max      113.037700    110.135900    100.665000    112.064800    106.809300  \n"
     ]
    },
    {
     "name": "stderr",
     "output_type": "stream",
     "text": [
      "/home/studio-lab-user/.conda/envs/default/lib/python3.9/site-packages/sklearn/neighbors/_classification.py:238: DataConversionWarning: A column-vector y was passed when a 1d array was expected. Please change the shape of y to (n_samples,), for example using ravel().\n",
      "  return self._fit(X, y)\n"
     ]
    }
   ],
   "source": [
    "from sklearn.model_selection import train_test_split\n",
    "from sklearn.neighbors import KNeighborsClassifier\n",
    "import numpy as np, pandas as pd\n",
    "\n",
    "df = pd.read_csv('data.csv')\n",
    "print(\"Csv file read at df\")\n",
    "\n",
    "df_data = df.iloc[:, :10]  # First two columns\n",
    "df_label = df.iloc[:, -1:]   # Last column\n",
    "#print(df_label)\n",
    "\n",
    "#30% of records of the data is going for model fit evaluation and 80% for test set\n",
    "X_training, X_testing, Y_training, Y_testing = train_test_split(df_data, df_label, test_size=0.3, random_state=23, shuffle=True)\n",
    "\n",
    "model = KNeighborsClassifier(n_neighbors=1).fit(X_training,Y_training)\n",
    "\n",
    "print(X_testing.describe())\n"
   ]
  },
  {
   "cell_type": "code",
   "execution_count": 7,
   "id": "9bc99eda-d46c-440a-8e60-4ad0957b007c",
   "metadata": {
    "tags": []
   },
   "outputs": [
    {
     "name": "stdout",
     "output_type": "stream",
     "text": [
      "Accuracy of the model: 100.0%\n",
      "Accuracy score of the model: 100.0%\n"
     ]
    }
   ],
   "source": [
    "from sklearn.metrics import accuracy_score\n",
    "\n",
    "model_set = np.array(model.predict(X_testing))\n",
    "Y_testing = np.array(Y_testing)\n",
    "\n",
    "cnttot = 0\n",
    "cntnonmatch = 0\n",
    "\n",
    "for index, (i, j) in enumerate(zip(model_set, Y_testing)):\n",
    "    cnttot = index\n",
    "    if i == j:\n",
    "        ;\n",
    "        #print(f\"Match at index {index}: Model: {i} = Test_Set: {j[-1]}\")\n",
    "    else:\n",
    "        #print(f\"No match at index {index}: {i} vs {j}\")\n",
    "        cntnonmatch += 1\n",
    "\n",
    "accuracy = 100 - (cntnonmatch/(cnttot+1))*100\n",
    "\n",
    "print(f'Accuracy of the model: {accuracy}%')\n",
    "print(f'Accuracy score of the model: {accuracy_score(Y_testing, model.predict(X_testing))*100}%')\n",
    "\n",
    "#print(Y_testing)"
   ]
  },
  {
   "cell_type": "code",
   "execution_count": 2,
   "id": "00b6b137-a770-4056-bfa3-f831ce077b00",
   "metadata": {
    "tags": []
   },
   "outputs": [
    {
     "name": "stdout",
     "output_type": "stream",
     "text": [
      "/home/studio-lab-user/sagemaker-studiolab-notebooks/Cisc7700/Cisc7700_hw6\n"
     ]
    }
   ],
   "source": [
    "!pwd"
   ]
  },
  {
   "cell_type": "code",
   "execution_count": null,
   "id": "3498daf2-3199-4f33-a056-0e77b61455f7",
   "metadata": {},
   "outputs": [],
   "source": []
  }
 ],
 "metadata": {
  "kernelspec": {
   "display_name": ".conda-default:Python",
   "language": "python",
   "name": "conda-env-.conda-default-py"
  },
  "language_info": {
   "codemirror_mode": {
    "name": "ipython",
    "version": 3
   },
   "file_extension": ".py",
   "mimetype": "text/x-python",
   "name": "python",
   "nbconvert_exporter": "python",
   "pygments_lexer": "ipython3",
   "version": "3.9.19"
  }
 },
 "nbformat": 4,
 "nbformat_minor": 5
}
